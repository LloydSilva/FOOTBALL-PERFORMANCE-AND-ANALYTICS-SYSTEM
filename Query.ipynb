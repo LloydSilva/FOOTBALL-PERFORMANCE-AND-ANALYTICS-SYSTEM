{
 "cells": [
  {
   "cell_type": "code",
   "execution_count": 1,
   "metadata": {},
   "outputs": [
    {
     "name": "stdout",
     "output_type": "stream",
     "text": [
      "----Loading MySql----\n",
      "Inserted 245180 rows into shots.\n",
      "Inserted 14148 rows into matches.\n",
      "Inserted 20414 rows into all_players.\n",
      "Inserted 675 rows into teams.\n",
      "Inserted 4 rows into new_table.\n",
      "\n",
      "Data inserted successfully for all files!\n",
      "Execution time: 8.2030 seconds\n"
     ]
    }
   ],
   "source": [
    "# import mysql.connector\n",
    "# import pandas as pd\n",
    "from MySqlStruct import *\n",
    "\n",
    "@measure_execution_time\n",
    "def MySqlExecTime():\n",
    "    return MySql_connect()\n",
    "\n",
    "print('----Loading MySql----')\n",
    "result, execution_time = MySqlExecTime()  # Get both the result and execution time\n",
    "\n",
    "# Unpack the values from the result\n",
    "cursor,connection,df_shots,df_matches,df_players,df_teams, df_new_table = result"
   ]
  },
  {
   "cell_type": "code",
   "execution_count": 2,
   "metadata": {},
   "outputs": [
    {
     "name": "stdout",
     "output_type": "stream",
     "text": [
      "Index(['Player', 'Outcome', 'Distance', 'Body Part', 'match_id'], dtype='object')\n",
      "Index(['Date', 'league', 'Round', 'Day', 'Attendance', 'home_id', 'away_id',\n",
      "       'score_away', 'score_home'],\n",
      "      dtype='object')\n",
      "Index(['id', 'Pos', 'Matches', 'club_id', 'MP', 'year', 'name'], dtype='object')\n",
      "Index(['id', 'name', 'league', 'W', 'D', 'L', 'MP', 'GF', 'GA', 'GD', 'Pts'], dtype='object')\n",
      "Index(['Goals_scored', 'Penaulty_scored', 'Red Cards Received'], dtype='object')\n"
     ]
    }
   ],
   "source": [
    "print(df_shots.columns)\n",
    "# print(df_shots.head(5))\n",
    "print(df_matches.columns)\n",
    "# print(df_matches.head(5))\n",
    "print(df_players.columns)\n",
    "#print(df_players.head(5))\n",
    "print(df_teams.columns)\n",
    "# print(df_teams.head(5))\n",
    "print(df_new_table.columns)"
   ]
  },
  {
   "cell_type": "code",
   "execution_count": null,
   "metadata": {},
   "outputs": [],
   "source": [
    "csv_file = \"new_table.csv\" \n",
    "data = pd.read_csv(csv_file, index_col=0)\n",
    "\n",
    "data = data.drop(columns = ['Player_Name', 'Goals_scored', 'Penaulty_scored', 'Red Cards Received'])\n",
    "data.head(5)\n",
    "\n",
    "# Step 2: Connect to MySQL database\n",
    "database_name = 'db_test'\n",
    "\n",
    "# Create Connection\n",
    "connection = mysql.connector.connect(\n",
    "    host = 'localhost',\n",
    "    user = 'root',\n",
    "    password = '1234' \n",
    ")\n",
    "\n",
    "cursor = connection.cursor()\n",
    "cursor.execute(f\"DROP DATABASE IF EXISTS {database_name}\")\n",
    "cursor.execute(f\"CREATE DATABASE IF NOT EXISTS {database_name}\")\n",
    "cursor.execute(f\"USE {database_name}\")\n",
    "\n",
    "cursor = connection.cursor()\n",
    "\n",
    "cursor.execute(f\"DROP TABLE IF EXISTS shots\")\n",
    "\n",
    "cursor.execute(\"\"\"\n",
    "CREATE TABLE IF NOT EXISTS shots(\n",
    "id INT AUTO_INCREMENT PRIMARY KEY,\n",
    "Minute INT,\n",
    "Player VARCHAR(255),\n",
    "Squad VARCHAR(255),\n",
    "Outcome VARCHAR(255),\n",
    "Distance INT,\n",
    "BodyPart VARCHAR(255)\n",
    ");\n",
    "\"\"\")\n",
    "\n",
    "insert_query = \"\"\"\n",
    "INSERT INTO shots (Minute, Player, Squad, Outcome, Distance, BodyPart)\n",
    "VALUES (%s, %s, %s, %s, %s, %s)\n",
    "\"\"\"\n",
    "\n",
    "for _, row in data.iterrows():\n",
    "    cursor.execute(insert_query, tuple(row))\n",
    "\n",
    "connection.commit()\n",
    "cursor.close()\n",
    "connection.close()\n",
    "\n",
    "print(\"Data inserted successfully!\")"
   ]
  }
 ],
 "metadata": {
  "kernelspec": {
   "display_name": "base",
   "language": "python",
   "name": "python3"
  },
  "language_info": {
   "codemirror_mode": {
    "name": "ipython",
    "version": 3
   },
   "file_extension": ".py",
   "mimetype": "text/x-python",
   "name": "python",
   "nbconvert_exporter": "python",
   "pygments_lexer": "ipython3",
   "version": "3.12.4"
  }
 },
 "nbformat": 4,
 "nbformat_minor": 2
}
